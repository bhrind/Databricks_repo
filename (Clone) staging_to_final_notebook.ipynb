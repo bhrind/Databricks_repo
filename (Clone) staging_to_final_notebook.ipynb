{
 "cells": [
  {
   "cell_type": "code",
   "execution_count": 0,
   "metadata": {
    "application/vnd.databricks.v1+cell": {
     "cellMetadata": {
      "byteLimit": 2048000,
      "rowLimit": 10000
     },
     "inputWidgets": {},
     "nuid": "3b9bff8b-5237-4ab1-ba01-c1a4e175f665",
     "showTitle": false,
     "tableResultSettingsMap": {},
     "title": ""
    }
   },
   "outputs": [],
   "source": [
    "# Staging to Final Table Notebook\n",
    "\n",
    "catalog = \"main\"\n",
    "schema = \"demo\"\n",
    "staging_table = \"orders_staging\"\n",
    "final_table = \"orders_final\"\n",
    "\n",
    "# Set context\n",
    "spark.sql(f\"USE CATALOG {catalog}\")\n",
    "spark.sql(f\"USE SCHEMA {schema}\")\n",
    "\n",
    "# Read from staging\n",
    "df_staging = spark.table(staging_table)\n",
    "\n",
    "# Example transformation (filtering out null orders or cleaning columns)\n",
    "df_final = df_staging.filter(\"customer_id IS NOT NULL\")\n",
    "\n",
    "# Write to final Delta table\n",
    "df_final.write.mode(\"overwrite\").format(\"delta\").saveAsTable(final_table)\n",
    "print(f\"✅ Final table '{final_table}' created with transformed data.\")\n"
   ]
  }
 ],
 "metadata": {
  "application/vnd.databricks.v1+notebook": {
   "computePreferences": null,
   "dashboards": [],
   "environmentMetadata": {
    "base_environment": "",
    "environment_version": "2"
   },
   "inputWidgetPreferences": null,
   "language": "python",
   "notebookMetadata": {
    "pythonIndentUnit": 4
   },
   "notebookName": "(Clone) staging_to_final_notebook",
   "widgets": {}
  },
  "language_info": {
   "name": "python"
  }
 },
 "nbformat": 4,
 "nbformat_minor": 0
}
